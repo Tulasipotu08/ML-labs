{
  "nbformat": 4,
  "nbformat_minor": 0,
  "metadata": {
    "colab": {
      "provenance": [],
      "authorship_tag": "ABX9TyPz0+O/WP6wPYF37jlfxKEo",
      "include_colab_link": true
    },
    "kernelspec": {
      "name": "python3",
      "display_name": "Python 3"
    },
    "language_info": {
      "name": "python"
    }
  },
  "cells": [
    {
      "cell_type": "markdown",
      "metadata": {
        "id": "view-in-github",
        "colab_type": "text"
      },
      "source": [
        "<a href=\"https://colab.research.google.com/github/Tulasipotu08/ML-labs/blob/main/KNeighborsClassifier.ipynb\" target=\"_parent\"><img src=\"https://colab.research.google.com/assets/colab-badge.svg\" alt=\"Open In Colab\"/></a>"
      ]
    },
    {
      "cell_type": "code",
      "source": [
        "import numpy as np\n",
        "import pandas as pd\n",
        "from sklearn.neighbors import KNeighborsClassifier\n",
        "from sklearn.model_selection import train_test_split\n",
        "from sklearn import metrics\n",
        "\n",
        "\n",
        "dataset = pd.read_csv(\"/content/Iris_Lab8.csv\", header=0)\n",
        "\n",
        "\n",
        "X = dataset[['sepal_length', 'sepal_width', 'petal_length', 'petal_width']]\n",
        "y = dataset['species']\n",
        "\n",
        "print(X.head())\n",
        "Xtrain, Xtest, ytrain, ytest = train_test_split(X, y, test_size=0.30)\n",
        "classifier = KNeighborsClassifier(n_neighbors=5).fit(Xtrain, ytrain)\n",
        "ypred = classifier.predict(Xtest)\n",
        "i = 0\n",
        "print(\"\\n-------------------------------------------------------------------------\")\n",
        "print('%-25s %-25s %-25s' % ('Original Label', 'Predicted Label', 'Correct/Wrong'))\n",
        "print(\"-------------------------------------------------------------------------\")\n",
        "for label in ytest:\n",
        "    print('%-25s %-25s' % (label, ypred[i]), end=\"\")\n",
        "    if (label == ypred[i]):\n",
        "        print(' %-25s' % ('Correct'))\n",
        "    else:\n",
        "        print(' %-25s' % ('Wrong'))\n",
        "    i = i + 1\n",
        "print(\"-------------------------------------------------------------------------\")\n",
        "print(\"\\nConfusion Matrix:\\n\", metrics.confusion_matrix(ytest, ypred))\n",
        "print(\"-------------------------------------------------------------------------\")\n",
        "print(\"\\nClassification Report:\\n\", metrics.classification_report(ytest, ypred))\n",
        "print(\"-------------------------------------------------------------------------\")\n",
        "print('Accuracy of the classifer is %0.2f' % metrics.accuracy_score(ytest, ypred))\n",
        "print(\"-------------------------------------------------------------------------\")"
      ],
      "metadata": {
        "colab": {
          "base_uri": "https://localhost:8080/"
        },
        "id": "omKBOvQ050x_",
        "outputId": "f43cc9cc-36f9-44c5-837f-8e5bb871daa8"
      },
      "execution_count": 9,
      "outputs": [
        {
          "output_type": "stream",
          "name": "stdout",
          "text": [
            "   sepal_length  sepal_width  petal_length  petal_width\n",
            "0           5.1          3.5           1.4          0.2\n",
            "1           4.9          3.0           1.4          0.2\n",
            "2           4.7          3.2           1.3          0.2\n",
            "3           4.6          3.1           1.5          0.2\n",
            "4           5.0          3.6           1.4          0.2\n",
            "\n",
            "-------------------------------------------------------------------------\n",
            "Original Label            Predicted Label           Correct/Wrong            \n",
            "-------------------------------------------------------------------------\n",
            "setosa                    setosa                    Correct                  \n",
            "setosa                    setosa                    Correct                  \n",
            "versicolor                versicolor                Correct                  \n",
            "virginica                 virginica                 Correct                  \n",
            "setosa                    setosa                    Correct                  \n",
            "setosa                    setosa                    Correct                  \n",
            "virginica                 virginica                 Correct                  \n",
            "setosa                    setosa                    Correct                  \n",
            "virginica                 virginica                 Correct                  \n",
            "virginica                 virginica                 Correct                  \n",
            "setosa                    setosa                    Correct                  \n",
            "setosa                    setosa                    Correct                  \n",
            "virginica                 virginica                 Correct                  \n",
            "virginica                 virginica                 Correct                  \n",
            "versicolor                versicolor                Correct                  \n",
            "setosa                    setosa                    Correct                  \n",
            "versicolor                versicolor                Correct                  \n",
            "virginica                 virginica                 Correct                  \n",
            "setosa                    setosa                    Correct                  \n",
            "setosa                    setosa                    Correct                  \n",
            "versicolor                versicolor                Correct                  \n",
            "virginica                 virginica                 Correct                  \n",
            "versicolor                versicolor                Correct                  \n",
            "virginica                 virginica                 Correct                  \n",
            "virginica                 virginica                 Correct                  \n",
            "versicolor                versicolor                Correct                  \n",
            "setosa                    setosa                    Correct                  \n",
            "setosa                    setosa                    Correct                  \n",
            "virginica                 versicolor                Wrong                    \n",
            "setosa                    setosa                    Correct                  \n",
            "virginica                 virginica                 Correct                  \n",
            "versicolor                versicolor                Correct                  \n",
            "virginica                 virginica                 Correct                  \n",
            "versicolor                versicolor                Correct                  \n",
            "versicolor                versicolor                Correct                  \n",
            "virginica                 virginica                 Correct                  \n",
            "setosa                    setosa                    Correct                  \n",
            "virginica                 virginica                 Correct                  \n",
            "versicolor                versicolor                Correct                  \n",
            "versicolor                versicolor                Correct                  \n",
            "setosa                    setosa                    Correct                  \n",
            "setosa                    setosa                    Correct                  \n",
            "setosa                    setosa                    Correct                  \n",
            "virginica                 virginica                 Correct                  \n",
            "virginica                 virginica                 Correct                  \n",
            "-------------------------------------------------------------------------\n",
            "\n",
            "Confusion Matrix:\n",
            " [[17  0  0]\n",
            " [ 0 11  0]\n",
            " [ 0  1 16]]\n",
            "-------------------------------------------------------------------------\n",
            "\n",
            "Classification Report:\n",
            "               precision    recall  f1-score   support\n",
            "\n",
            "      setosa       1.00      1.00      1.00        17\n",
            "  versicolor       0.92      1.00      0.96        11\n",
            "   virginica       1.00      0.94      0.97        17\n",
            "\n",
            "    accuracy                           0.98        45\n",
            "   macro avg       0.97      0.98      0.98        45\n",
            "weighted avg       0.98      0.98      0.98        45\n",
            "\n",
            "-------------------------------------------------------------------------\n",
            "Accuracy of the classifer is 0.98\n",
            "-------------------------------------------------------------------------\n"
          ]
        }
      ]
    }
  ]
}