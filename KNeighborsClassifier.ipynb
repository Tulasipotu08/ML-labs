{
  "nbformat": 4,
  "nbformat_minor": 0,
  "metadata": {
    "colab": {
      "provenance": [],
      "authorship_tag": "ABX9TyPz0+O/WP6wPYF37jlfxKEo",
      "include_colab_link": true
    },
    "kernelspec": {
      "name": "python3",
      "display_name": "Python 3"
    },
    "language_info": {
      "name": "python"
    }
  },
  "cells": [
    {
      "cell_type": "markdown",
      "metadata": {
        "id": "view-in-github",
        "colab_type": "text"
      },
      "source": [
        "<a href=\"https://colab.research.google.com/github/Tulasipotu08/ML-labs/blob/main/KNeighborsClassifier.ipynb\" target=\"_parent\"><img src=\"https://colab.research.google.com/assets/colab-badge.svg\" alt=\"Open In Colab\"/></a>"
      ]
    },
    {
      "cell_type": "code",
      "source": [
        "import numpy as np\n",
        "import pandas as pd\n",
        "from sklearn.neighbors import KNeighborsClassifier\n",
        "from sklearn.model_selection import train_test_split\n",
        "from sklearn import metrics\n",
        "\n",
        "\n",
        "dataset = pd.read_csv(\"/content/Iris_Lab8.csv\", header=0)\n",
        "\n",
        "\n",
        "X = dataset[['sepal_length', 'sepal_width', 'petal_length', 'petal_width']]\n",
        "y = dataset['species']\n",
        "\n",
        "print(X.head())\n",
        "Xtrain, Xtest, ytrain, ytest = train_test_split(X, y, test_size=0.30)\n",
        "classifier = KNeighborsClassifier(n_neighbors=5).fit(Xtrain, ytrain)\n",
        "ypred = classifier.predict(Xtest)\n",
        "i = 0\n",
        "print(\"\\n-------------------------------------------------------------------------\")\n",
        "print('%-25s %-25s %-25s' % ('Original Label', 'Predicted Label', 'Correct/Wrong'))\n",
        "print(\"-------------------------------------------------------------------------\")\n",
        "for label in ytest:\n",
        "    print('%-25s %-25s' % (label, ypred[i]), end=\"\")\n",
        "    if (label == ypred[i]):\n",
        "        print(' %-25s' % ('Correct'))\n",
        "    else:\n",
        "        print(' %-25s' % ('Wrong'))\n",
        "    i = i + 1\n",
        "print(\"-------------------------------------------------------------------------\")\n",
        "print(\"\\nConfusion Matrix:\\n\", metrics.confusion_matrix(ytest, ypred))\n",
        "print(\"-------------------------------------------------------------------------\")\n",
        "print(\"\\nClassification Report:\\n\", metrics.classification_report(ytest, ypred))\n",
        "print(\"-------------------------------------------------------------------------\")\n",
        "print('Accuracy of the classifer is %0.2f' % metrics.accuracy_score(ytest, ypred))\n",
        "print(\"-------------------------------------------------------------------------\")"
      ],
      "metadata": {
        "colab": {
          "base_uri": "https://localhost:8080/"
        },
        "id": "omKBOvQ050x_",
        "outputId": "0ced7acb-5d3d-4c6b-932d-c1e62fe5f5ab"
      },
      "execution_count": 1,
      "outputs": [
        {
          "output_type": "stream",
          "name": "stdout",
          "text": [
            "   sepal_length  sepal_width  petal_length  petal_width\n",
            "0           5.1          3.5           1.4          0.2\n",
            "1           4.9          3.0           1.4          0.2\n",
            "2           4.7          3.2           1.3          0.2\n",
            "3           4.6          3.1           1.5          0.2\n",
            "4           5.0          3.6           1.4          0.2\n",
            "\n",
            "-------------------------------------------------------------------------\n",
            "Original Label            Predicted Label           Correct/Wrong            \n",
            "-------------------------------------------------------------------------\n",
            "versicolor                versicolor                Correct                  \n",
            "setosa                    setosa                    Correct                  \n",
            "versicolor                versicolor                Correct                  \n",
            "setosa                    setosa                    Correct                  \n",
            "setosa                    setosa                    Correct                  \n",
            "setosa                    setosa                    Correct                  \n",
            "versicolor                versicolor                Correct                  \n",
            "virginica                 virginica                 Correct                  \n",
            "versicolor                versicolor                Correct                  \n",
            "virginica                 virginica                 Correct                  \n",
            "virginica                 virginica                 Correct                  \n",
            "setosa                    setosa                    Correct                  \n",
            "virginica                 virginica                 Correct                  \n",
            "setosa                    setosa                    Correct                  \n",
            "versicolor                versicolor                Correct                  \n",
            "versicolor                versicolor                Correct                  \n",
            "virginica                 virginica                 Correct                  \n",
            "virginica                 virginica                 Correct                  \n",
            "virginica                 virginica                 Correct                  \n",
            "setosa                    setosa                    Correct                  \n",
            "versicolor                versicolor                Correct                  \n",
            "setosa                    setosa                    Correct                  \n",
            "setosa                    setosa                    Correct                  \n",
            "versicolor                versicolor                Correct                  \n",
            "versicolor                versicolor                Correct                  \n",
            "versicolor                versicolor                Correct                  \n",
            "virginica                 virginica                 Correct                  \n",
            "virginica                 virginica                 Correct                  \n",
            "versicolor                versicolor                Correct                  \n",
            "setosa                    setosa                    Correct                  \n",
            "versicolor                versicolor                Correct                  \n",
            "setosa                    setosa                    Correct                  \n",
            "virginica                 virginica                 Correct                  \n",
            "setosa                    setosa                    Correct                  \n",
            "virginica                 virginica                 Correct                  \n",
            "virginica                 virginica                 Correct                  \n",
            "versicolor                versicolor                Correct                  \n",
            "versicolor                versicolor                Correct                  \n",
            "setosa                    setosa                    Correct                  \n",
            "versicolor                versicolor                Correct                  \n",
            "versicolor                versicolor                Correct                  \n",
            "versicolor                versicolor                Correct                  \n",
            "virginica                 virginica                 Correct                  \n",
            "virginica                 virginica                 Correct                  \n",
            "virginica                 virginica                 Correct                  \n",
            "-------------------------------------------------------------------------\n",
            "\n",
            "Confusion Matrix:\n",
            " [[13  0  0]\n",
            " [ 0 17  0]\n",
            " [ 0  0 15]]\n",
            "-------------------------------------------------------------------------\n",
            "\n",
            "Classification Report:\n",
            "               precision    recall  f1-score   support\n",
            "\n",
            "      setosa       1.00      1.00      1.00        13\n",
            "  versicolor       1.00      1.00      1.00        17\n",
            "   virginica       1.00      1.00      1.00        15\n",
            "\n",
            "    accuracy                           1.00        45\n",
            "   macro avg       1.00      1.00      1.00        45\n",
            "weighted avg       1.00      1.00      1.00        45\n",
            "\n",
            "-------------------------------------------------------------------------\n",
            "Accuracy of the classifer is 1.00\n",
            "-------------------------------------------------------------------------\n"
          ]
        }
      ]
    }
  ]
}