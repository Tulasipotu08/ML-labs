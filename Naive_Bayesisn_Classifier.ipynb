{
  "nbformat": 4,
  "nbformat_minor": 0,
  "metadata": {
    "colab": {
      "provenance": [],
      "authorship_tag": "ABX9TyNLw/QR2+ORYcvhCglWXr+n",
      "include_colab_link": true
    },
    "kernelspec": {
      "name": "python3",
      "display_name": "Python 3"
    },
    "language_info": {
      "name": "python"
    }
  },
  "cells": [
    {
      "cell_type": "markdown",
      "metadata": {
        "id": "view-in-github",
        "colab_type": "text"
      },
      "source": [
        "<a href=\"https://colab.research.google.com/github/Tulasipotu08/ML-labs/blob/main/Naive_Bayesisn_Classifier.ipynb\" target=\"_parent\"><img src=\"https://colab.research.google.com/assets/colab-badge.svg\" alt=\"Open In Colab\"/></a>"
      ]
    },
    {
      "cell_type": "code",
      "source": [
        "import pandas as pd\n",
        "msg=pd.read_csv(\"/content/Lab10.csv\",names=[\"message\",\"label\"])\n",
        "print(\" The dimensions of the dataset\", msg.shape)\n",
        "msg[\"labelnum\"]=msg.label.map({\"pos\":1,\"neg\":0})\n",
        "X=msg.message\n",
        "Y=msg.labelnum\n",
        "print(X)\n",
        "print(Y)\n",
        "from sklearn.model_selection import train_test_split\n",
        "X_train, X_test, Y_train, Y_test = train_test_split(X,Y)\n",
        "print(\"\\n the total no. of training data:\", Y_train.shape)\n",
        "print(\"\\n the total no. of test data:\", Y_test.shape)\n",
        "from sklearn.feature_extraction.text import CountVectorizer\n",
        "Count_Vect=CountVectorizer()\n",
        "X_train_dtm=Count_Vect.fit_transform(X_train)\n",
        "X_test_dtm=Count_Vect.transform(X_test)\n",
        "print(\"\\n the words or tokens in the text documents \\n\")\n",
        "print(Count_Vect.get_feature_names_out())\n",
        "from sklearn.naive_bayes import MultinomialNB"
      ],
      "metadata": {
        "colab": {
          "base_uri": "https://localhost:8080/"
        },
        "id": "krsBnoa38KcQ",
        "outputId": "177c59ca-7355-425f-ff35-3d6b61eedee5"
      },
      "execution_count": 1,
      "outputs": [
        {
          "output_type": "stream",
          "name": "stdout",
          "text": [
            " The dimensions of the dataset (19, 2)\n",
            "0                                   message\n",
            "1                      I love this sandwich\n",
            "2                  This is an amazing place\n",
            "3        I feel very good about these beers\n",
            "4                      This is my best work\n",
            "5                      What an awesome view\n",
            "6             I do not like this restaurant\n",
            "7                  I am tired of this stuff\n",
            "8                    I can't deal with this\n",
            "9                      He is my sworn enemy\n",
            "10                      My boss is horrible\n",
            "11                 This is an awesome place\n",
            "12    I do not like the taste of this juice\n",
            "13                          I love to dance\n",
            "14        I am sick and tired of this place\n",
            "15                     What a great holiday\n",
            "16           That is a bad locality to stay\n",
            "17           We will have good fun tomorrow\n",
            "18         I went to my enemy's house today\n",
            "Name: message, dtype: object\n",
            "0    NaN\n",
            "1    NaN\n",
            "2    NaN\n",
            "3    NaN\n",
            "4    NaN\n",
            "5    NaN\n",
            "6    NaN\n",
            "7    NaN\n",
            "8    NaN\n",
            "9    NaN\n",
            "10   NaN\n",
            "11   NaN\n",
            "12   NaN\n",
            "13   NaN\n",
            "14   NaN\n",
            "15   NaN\n",
            "16   NaN\n",
            "17   NaN\n",
            "18   NaN\n",
            "Name: labelnum, dtype: float64\n",
            "\n",
            " the total no. of training data: (14,)\n",
            "\n",
            " the total no. of test data: (5,)\n",
            "\n",
            " the words or tokens in the text documents \n",
            "\n",
            "['about' 'am' 'an' 'and' 'awesome' 'beers' 'best' 'can' 'dance' 'deal'\n",
            " 'do' 'enemy' 'feel' 'fun' 'good' 'great' 'have' 'he' 'holiday' 'is'\n",
            " 'juice' 'like' 'love' 'message' 'my' 'not' 'of' 'place' 'sandwich' 'sick'\n",
            " 'stuff' 'sworn' 'taste' 'the' 'these' 'this' 'tired' 'to' 'tomorrow'\n",
            " 'very' 'view' 'we' 'what' 'will' 'with' 'work']\n"
          ]
        }
      ]
    }
  ]
}